{
 "cells": [
  {
   "cell_type": "markdown",
   "metadata": {},
   "source": [
    "## Arthimethic Operators"
   ]
  },
  {
   "cell_type": "code",
   "execution_count": 19,
   "metadata": {},
   "outputs": [
    {
     "name": "stdout",
     "output_type": "stream",
     "text": [
      "24\n",
      "16\n",
      "80\n",
      "5.0\n",
      "5\n",
      "0\n",
      "160000\n"
     ]
    }
   ],
   "source": [
    "## Arthimethic Operation\n",
    "\n",
    "a = 20\n",
    "b = 4\n",
    "add_result = a + b ## addition\n",
    "sub_result = a - b ## substraction\n",
    "mult_result = a * b ## multiplication\n",
    "div_result = a / b ## division\n",
    "floor_div_result = a // b ## floor division\n",
    "modulus_result = a % b ## modulus operation\n",
    "exponent_result = a ** b\n",
    "\n",
    "print(add_result)\n",
    "print(sub_result)\n",
    "print(mult_result)\n",
    "print(div_result)\n",
    "print(floor_div_result)\n",
    "print(modulus_result)\n",
    "print(exponent_result)\n"
   ]
  },
  {
   "cell_type": "code",
   "execution_count": 20,
   "metadata": {},
   "outputs": [
    {
     "data": {
      "text/plain": [
       "2.0"
      ]
     },
     "execution_count": 20,
     "metadata": {},
     "output_type": "execute_result"
    }
   ],
   "source": [
    "10/5"
   ]
  },
  {
   "cell_type": "code",
   "execution_count": 21,
   "metadata": {},
   "outputs": [
    {
     "data": {
      "text/plain": [
       "4.2"
      ]
     },
     "execution_count": 21,
     "metadata": {},
     "output_type": "execute_result"
    }
   ],
   "source": [
    "21/5"
   ]
  },
  {
   "cell_type": "code",
   "execution_count": 22,
   "metadata": {},
   "outputs": [
    {
     "data": {
      "text/plain": [
       "4"
      ]
     },
     "execution_count": 22,
     "metadata": {},
     "output_type": "execute_result"
    }
   ],
   "source": [
    "21//5"
   ]
  },
  {
   "cell_type": "markdown",
   "metadata": {},
   "source": [
    "## Comparison Operators"
   ]
  },
  {
   "cell_type": "code",
   "execution_count": null,
   "metadata": {},
   "outputs": [
    {
     "data": {
      "text/plain": [
       "True"
      ]
     },
     "execution_count": 5,
     "metadata": {},
     "output_type": "execute_result"
    }
   ],
   "source": [
    "## Comparison Operators\n",
    "## == Equal to operator\n",
    "\n",
    "a = 10\n",
    "b = 10\n",
    "a == b"
   ]
  },
  {
   "cell_type": "code",
   "execution_count": 6,
   "metadata": {},
   "outputs": [
    {
     "data": {
      "text/plain": [
       "True"
      ]
     },
     "execution_count": 6,
     "metadata": {},
     "output_type": "execute_result"
    }
   ],
   "source": [
    "str1 = \"Susmita\"\n",
    "str2 = \"Susmita\"\n",
    "\n",
    "str1 == str2"
   ]
  },
  {
   "cell_type": "code",
   "execution_count": 7,
   "metadata": {},
   "outputs": [
    {
     "data": {
      "text/plain": [
       "False"
      ]
     },
     "execution_count": 7,
     "metadata": {},
     "output_type": "execute_result"
    }
   ],
   "source": [
    "## Not Equal to Operators\n",
    "\n",
    "str1 != str2"
   ]
  },
  {
   "cell_type": "code",
   "execution_count": 8,
   "metadata": {},
   "outputs": [
    {
     "data": {
      "text/plain": [
       "True"
      ]
     },
     "execution_count": 8,
     "metadata": {},
     "output_type": "execute_result"
    }
   ],
   "source": [
    "str3 = \"susmita\"\n",
    "str4 = \"Susmita\"\n",
    "str3 != str4"
   ]
  },
  {
   "cell_type": "code",
   "execution_count": null,
   "metadata": {},
   "outputs": [
    {
     "data": {
      "text/plain": [
       "False"
      ]
     },
     "execution_count": 9,
     "metadata": {},
     "output_type": "execute_result"
    }
   ],
   "source": [
    "## Greater than <\n",
    "\n",
    "a = 60\n",
    "b = 68\n",
    "print(a > b)"
   ]
  },
  {
   "cell_type": "code",
   "execution_count": 11,
   "metadata": {},
   "outputs": [
    {
     "name": "stdout",
     "output_type": "stream",
     "text": [
      "True\n"
     ]
    }
   ],
   "source": [
    "## Less than >\n",
    "print(a < b)"
   ]
  },
  {
   "cell_type": "code",
   "execution_count": null,
   "metadata": {},
   "outputs": [
    {
     "name": "stdout",
     "output_type": "stream",
     "text": [
      "False\n"
     ]
    }
   ],
   "source": [
    "## Greater than or equal to \n",
    "\n",
    "num1 = 45\n",
    "num2 = 45\n",
    "print(num1 >= num2)\n"
   ]
  },
  {
   "cell_type": "code",
   "execution_count": null,
   "metadata": {},
   "outputs": [
    {
     "name": "stdout",
     "output_type": "stream",
     "text": [
      "False\n"
     ]
    }
   ],
   "source": [
    "## Less than or equal to \n",
    "num1 = 40\n",
    "num2 = 45\n",
    "print(num1 <= num2)"
   ]
  },
  {
   "cell_type": "markdown",
   "metadata": {},
   "source": [
    "## Logical Operators"
   ]
  },
  {
   "cell_type": "code",
   "execution_count": 26,
   "metadata": {},
   "outputs": [
    {
     "name": "stdout",
     "output_type": "stream",
     "text": [
      "True\n"
     ]
    }
   ],
   "source": [
    "## And ,Not ,OR\n",
    "X = True\n",
    "Y = True\n",
    "\n",
    "result = X and Y\n",
    "print(result)"
   ]
  },
  {
   "cell_type": "code",
   "execution_count": 27,
   "metadata": {},
   "outputs": [
    {
     "name": "stdout",
     "output_type": "stream",
     "text": [
      "False\n"
     ]
    }
   ],
   "source": [
    "X = True\n",
    "Y = False\n",
    "\n",
    "result = X and Y\n",
    "print(result)"
   ]
  },
  {
   "cell_type": "code",
   "execution_count": null,
   "metadata": {},
   "outputs": [
    {
     "name": "stdout",
     "output_type": "stream",
     "text": [
      "True\n"
     ]
    }
   ],
   "source": [
    "## OR\n",
    "X = False\n",
    "Y = True\n",
    "\n",
    "result = X or Y\n",
    "print(result)"
   ]
  },
  {
   "cell_type": "code",
   "execution_count": 30,
   "metadata": {},
   "outputs": [
    {
     "name": "stdout",
     "output_type": "stream",
     "text": [
      "False\n"
     ]
    }
   ],
   "source": [
    "X = False\n",
    "Y = False\n",
    "\n",
    "result = X and Y\n",
    "print(result)"
   ]
  },
  {
   "cell_type": "code",
   "execution_count": 32,
   "metadata": {},
   "outputs": [
    {
     "data": {
      "text/plain": [
       "False"
      ]
     },
     "execution_count": 32,
     "metadata": {},
     "output_type": "execute_result"
    }
   ],
   "source": [
    "## Not\n",
    "X = True\n",
    "not X\n"
   ]
  },
  {
   "cell_type": "code",
   "execution_count": 33,
   "metadata": {},
   "outputs": [
    {
     "data": {
      "text/plain": [
       "True"
      ]
     },
     "execution_count": 33,
     "metadata": {},
     "output_type": "execute_result"
    }
   ],
   "source": [
    "Y = False\n",
    "not Y"
   ]
  },
  {
   "cell_type": "markdown",
   "metadata": {},
   "source": [
    "## Simple Calculator"
   ]
  },
  {
   "cell_type": "code",
   "execution_count": 34,
   "metadata": {},
   "outputs": [
    {
     "name": "stdout",
     "output_type": "stream",
     "text": [
      "Addition 16.0\n",
      "Subtration 8.0\n",
      "Multiplication 48.0\n",
      "Division 3.0\n",
      "Floor Division 3.0\n",
      "Modulus 0.0\n",
      "Exponentiation 20736.0\n"
     ]
    }
   ],
   "source": [
    "## Simple Calculator\n",
    "\n",
    "# Simple Calculator\n",
    "num1 = float(input(\"Enter first number: \"))\n",
    "num2 = float(input(\"Enter second number: \"))\n",
    "\n",
    "## Performing arithmetic operations\n",
    "add_result = num1 + num2 ## addition\n",
    "sub_result = num1 - num2 ## substraction\n",
    "mult_result = num1 * num2 ## multiplication\n",
    "div_result = num1 / num2 ## division\n",
    "floor_div_result = num1 // num2 ## floor division\n",
    "modulus_result = num1 % num2 ## modulus operation\n",
    "exponent_result = num1 ** num2\n",
    "\n",
    "## Display the results\n",
    "print(\"Addition\", add_result)\n",
    "print(\"Subtration\", sub_result)\n",
    "print(\"Multiplication\", mult_result)\n",
    "print(\"Division\", div_result)\n",
    "print(\"Floor Division\", floor_div_result)\n",
    "print(\"Modulus\", modulus_result)\n",
    "print(\"Exponentiation\", exponent_result)\n"
   ]
  }
 ],
 "metadata": {
  "kernelspec": {
   "display_name": "base",
   "language": "python",
   "name": "python3"
  },
  "language_info": {
   "codemirror_mode": {
    "name": "ipython",
    "version": 3
   },
   "file_extension": ".py",
   "mimetype": "text/x-python",
   "name": "python",
   "nbconvert_exporter": "python",
   "pygments_lexer": "ipython3",
   "version": "3.12.7"
  }
 },
 "nbformat": 4,
 "nbformat_minor": 2
}
