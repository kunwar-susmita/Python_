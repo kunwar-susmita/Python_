{
 "cells": [
  {
   "cell_type": "code",
   "execution_count": 7,
   "metadata": {},
   "outputs": [
    {
     "name": "stdout",
     "output_type": "stream",
     "text": [
      "Can caste vote\n"
     ]
    }
   ],
   "source": [
    "## if statement\n",
    "age = int(input(\"Enter your age: \")) \n",
    "\n",
    "if age >= 18:\n",
    "    print(\"Can caste vote\")\n",
    "    "
   ]
  },
  {
   "cell_type": "code",
   "execution_count": 6,
   "metadata": {},
   "outputs": [
    {
     "data": {
      "text/plain": [
       "True"
      ]
     },
     "execution_count": 6,
     "metadata": {},
     "output_type": "execute_result"
    }
   ],
   "source": [
    "age >=18"
   ]
  },
  {
   "cell_type": "code",
   "execution_count": 1,
   "metadata": {},
   "outputs": [
    {
     "name": "stdout",
     "output_type": "stream",
     "text": [
      "Cannot caste vote, you are a minor\n"
     ]
    }
   ],
   "source": [
    "## else\n",
    "## The else statement executes a block of code if the condition in the if statement is false.\n",
    "\n",
    "age = int(input(\"Enter your age: \")) \n",
    "\n",
    "if age >= 18:\n",
    "    print(\"Can caste vote\")\n",
    "else :\n",
    "    print(\"Cannot caste vote, you are a minor\")  \n"
   ]
  },
  {
   "cell_type": "code",
   "execution_count": 10,
   "metadata": {},
   "outputs": [
    {
     "data": {
      "text/plain": [
       "False"
      ]
     },
     "execution_count": 10,
     "metadata": {},
     "output_type": "execute_result"
    }
   ],
   "source": [
    "age>=18"
   ]
  },
  {
   "cell_type": "code",
   "execution_count": 6,
   "metadata": {},
   "outputs": [
    {
     "name": "stdout",
     "output_type": "stream",
     "text": [
      "You are an adult\n"
     ]
    }
   ],
   "source": [
    "## elif\n",
    "## The elif statement allows you to check multiple conditions. It stands for \"else if\"\n",
    "age = 20\n",
    "\n",
    "if age < 13:\n",
    "    print(\"You are a child\")\n",
    "elif age < 18:\n",
    "    print(\"You are a teenager\")\n",
    "else:\n",
    "    print(\"You are an adult\")        \n"
   ]
  },
  {
   "cell_type": "code",
   "execution_count": 4,
   "metadata": {},
   "outputs": [
    {
     "name": "stdout",
     "output_type": "stream",
     "text": [
      "Entered number 65 is positive. \n",
      "Entered number 65 is odd\n"
     ]
    }
   ],
   "source": [
    "## Nested Conditional Statement\n",
    "## You can place one or more if, elif, or else statements inside another if, elif, or else statemnts to creatre nested conditional statements.\n",
    "\n",
    "## number even, odd and negative.\n",
    "num = int(input(\"Enter any number\"))\n",
    "if num > 0:\n",
    "    print(f\"Entered number {num} is positive. \")\n",
    "    if num % 2 == 0:\n",
    "        print(f\"Entered number {num} is even number. \")\n",
    "    else :\n",
    "        print(f\"Entered number {num} is odd\")\n",
    "\n",
    "else :\n",
    "    print(f\"Entered number {num} is zero or negative. \")            \n",
    "\n",
    "      "
   ]
  },
  {
   "cell_type": "code",
   "execution_count": 11,
   "metadata": {},
   "outputs": [
    {
     "name": "stdout",
     "output_type": "stream",
     "text": [
      "Entered year 2000 is leap year. \n"
     ]
    }
   ],
   "source": [
    "## Practical Example\n",
    "\n",
    "## Determine if a year  is a leap using nested condition statement\n",
    "\n",
    "year = int(input(\"Enter any year you want. \"))\n",
    "if year % 4 == 0:\n",
    "    if year % 100 == 0:\n",
    "        if year % 400 == 0:\n",
    "            print(f\"Entered year {year} is leap year. \")\n",
    "        else:\n",
    "            print(f\"Entered year {year} is not a leap year. \")\n",
    "    else:\n",
    "        print(f\"Entered year {year} is a leap year. \") \n",
    "else:\n",
    "    print(\"Entered year {year} is not a leap year. \")                   "
   ]
  },
  {
   "cell_type": "code",
   "execution_count": 13,
   "metadata": {},
   "outputs": [
    {
     "name": "stdout",
     "output_type": "stream",
     "text": [
      "Result 8.0\n"
     ]
    }
   ],
   "source": [
    "## Assignemt\n",
    "## Simple Calculator\n",
    "\n",
    "## Take user input\n",
    "num1 = float(input(\"Enter first number. \"))\n",
    "num2 = float(input(\"Enter second number. \"))\n",
    "operation = input(\"Enter operation (+, -, *, /):\")\n",
    "\n",
    "## Performs the requested operation\n",
    "\n",
    "if operation == '+':\n",
    "    result = num1 + num2\n",
    "elif operation == '-':\n",
    "    result = num1 - num2\n",
    "elif operation == '*':\n",
    "    result = num1 * num2\n",
    "elif operation == '/':\n",
    "   if num2 != 0:\n",
    "       result = num1 / num2\n",
    "   else:\n",
    "       result = \"Error! Division by zero.\"  \n",
    "else:\n",
    "    result = \"Invalid operation.\"   \n",
    "print(\"Result\", result)           \n"
   ]
  },
  {
   "cell_type": "code",
   "execution_count": 20,
   "metadata": {},
   "outputs": [
    {
     "name": "stdout",
     "output_type": "stream",
     "text": [
      "Ticket Price: $15\n"
     ]
    }
   ],
   "source": [
    "## Determine the tricket price based on age and whether the person is a student.\n",
    "## Ticket pricing based on age and student status\n",
    "\n",
    "## Take user input\n",
    "age = int(input(\"Enter your age. \"))\n",
    "is_student = input(\"Are you a student? (yes/no): \").lower()\n",
    "\n",
    "# Determinie ticket price\n",
    "if age < 5:\n",
    "    price = \"$0\"\n",
    "elif age <= 12:\n",
    "    price = \"$10\"\n",
    "elif age <= 17:\n",
    "    if is_student == \"yes\":\n",
    "        price = \"$12\"  \n",
    "    else:  \n",
    "        price = \"$15\"\n",
    "elif age <= 64:\n",
    "    if is_student == \"yes\":\n",
    "        price = \"$18\"\n",
    "    else:\n",
    "        price = \"$25\"\n",
    "else:\n",
    "    price = \"$20\"\n",
    "print(\"Ticket Price:\", price)                             "
   ]
  },
  {
   "cell_type": "code",
   "execution_count": null,
   "metadata": {},
   "outputs": [],
   "source": []
  }
 ],
 "metadata": {
  "kernelspec": {
   "display_name": "base",
   "language": "python",
   "name": "python3"
  },
  "language_info": {
   "codemirror_mode": {
    "name": "ipython",
    "version": 3
   },
   "file_extension": ".py",
   "mimetype": "text/x-python",
   "name": "python",
   "nbconvert_exporter": "python",
   "pygments_lexer": "ipython3",
   "version": "3.12.7"
  }
 },
 "nbformat": 4,
 "nbformat_minor": 2
}
